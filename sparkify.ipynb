{
 "cells": [
  {
   "cell_type": "code",
   "execution_count": 1,
   "id": "224ee672-6197-41c1-8adb-e6e904c35771",
   "metadata": {
    "execution": {
     "iopub.execute_input": "2022-05-23T17:10:17.347453Z",
     "iopub.status.busy": "2022-05-23T17:10:17.347148Z",
     "iopub.status.idle": "2022-05-23T17:10:54.079280Z",
     "shell.execute_reply": "2022-05-23T17:10:54.078216Z",
     "shell.execute_reply.started": "2022-05-23T17:10:17.347417Z"
    }
   },
   "outputs": [
    {
     "data": {
      "application/vnd.jupyter.widget-view+json": {
       "model_id": "0fe57aafce724e42b72d8a9cfd1501ce",
       "version_major": 2,
       "version_minor": 0
      },
      "text/plain": [
       "VBox()"
      ]
     },
     "metadata": {},
     "output_type": "display_data"
    },
    {
     "name": "stdout",
     "output_type": "stream",
     "text": [
      "Starting Spark application\n"
     ]
    },
    {
     "data": {
      "text/html": [
       "<table>\n",
       "<tr><th>ID</th><th>YARN Application ID</th><th>Kind</th><th>State</th><th>Spark UI</th><th>Driver log</th><th>Current session?</th></tr><tr><td>0</td><td>application_1653324128788_0001</td><td>pyspark</td><td>idle</td><td><a target=\"_blank\" href=\"http://ip-172-31-80-206.ec2.internal:20888/proxy/application_1653324128788_0001/\">Link</a></td><td><a target=\"_blank\" href=\"http://ip-172-31-83-193.ec2.internal:8042/node/containerlogs/container_1653324128788_0001_01_000001/livy\">Link</a></td><td>✔</td></tr></table>"
      ],
      "text/plain": [
       "<IPython.core.display.HTML object>"
      ]
     },
     "metadata": {},
     "output_type": "display_data"
    },
    {
     "data": {
      "application/vnd.jupyter.widget-view+json": {
       "model_id": "",
       "version_major": 2,
       "version_minor": 0
      },
      "text/plain": [
       "FloatProgress(value=0.0, bar_style='info', description='Progress:', layout=Layout(height='25px', width='50%'),…"
      ]
     },
     "metadata": {},
     "output_type": "display_data"
    },
    {
     "name": "stdout",
     "output_type": "stream",
     "text": [
      "SparkSession available as 'spark'.\n"
     ]
    },
    {
     "data": {
      "application/vnd.jupyter.widget-view+json": {
       "model_id": "",
       "version_major": 2,
       "version_minor": 0
      },
      "text/plain": [
       "FloatProgress(value=0.0, bar_style='info', description='Progress:', layout=Layout(height='25px', width='50%'),…"
      ]
     },
     "metadata": {},
     "output_type": "display_data"
    }
   ],
   "source": [
    "import configparser\n",
    "from datetime import datetime\n",
    "import os\n",
    "from pyspark.sql import SparkSession\n",
    "from pyspark.sql.functions import udf, col\n",
    "from pyspark.sql.functions import year, month, dayofmonth, hour, weekofyear, date_format, dayofweek"
   ]
  },
  {
   "cell_type": "code",
   "execution_count": 2,
   "id": "74a15922-3fc5-403f-b37a-0c96246f836a",
   "metadata": {
    "execution": {
     "iopub.execute_input": "2022-05-23T17:10:54.081198Z",
     "iopub.status.busy": "2022-05-23T17:10:54.080916Z",
     "iopub.status.idle": "2022-05-23T17:10:54.385926Z",
     "shell.execute_reply": "2022-05-23T17:10:54.385116Z",
     "shell.execute_reply.started": "2022-05-23T17:10:54.081160Z"
    }
   },
   "outputs": [
    {
     "data": {
      "application/vnd.jupyter.widget-view+json": {
       "model_id": "6e0bdb3eabc44ecf858e4bd11068bb5e",
       "version_major": 2,
       "version_minor": 0
      },
      "text/plain": [
       "VBox()"
      ]
     },
     "metadata": {},
     "output_type": "display_data"
    },
    {
     "data": {
      "application/vnd.jupyter.widget-view+json": {
       "model_id": "",
       "version_major": 2,
       "version_minor": 0
      },
      "text/plain": [
       "FloatProgress(value=0.0, bar_style='info', description='Progress:', layout=Layout(height='25px', width='50%'),…"
      ]
     },
     "metadata": {},
     "output_type": "display_data"
    },
    {
     "name": "stdout",
     "output_type": "stream",
     "text": [
      "[]"
     ]
    }
   ],
   "source": [
    "config = configparser.ConfigParser()\n",
    "config.read('dl.cfg', encoding='utf-8-sig')"
   ]
  },
  {
   "cell_type": "code",
   "execution_count": null,
   "id": "184b0c09-322b-43ac-bd29-df5fd21a52cc",
   "metadata": {},
   "outputs": [],
   "source": [
    "os.environ['AWS_ACCESS_KEY_ID']=config['AWS']['AWS_ACCESS_KEY_ID']\n",
    "os.environ['AWS_SECRET_ACCESS_KEY']=config['AWS']['AWS_SECRET_ACCESS_KEY']"
   ]
  },
  {
   "cell_type": "code",
   "execution_count": null,
   "id": "f8afdf9e-bd83-417e-8ed3-f4afbab10b65",
   "metadata": {},
   "outputs": [],
   "source": [
    "def create_spark_session():\n",
    "    spark = SparkSession \\\n",
    "        .builder \\\n",
    "        .config(\"spark.jars.packages\", \"org.apache.hadoop:hadoop-aws:2.7.0\") \\\n",
    "        .getOrCreate()\n",
    "    return spark"
   ]
  },
  {
   "cell_type": "code",
   "execution_count": null,
   "id": "a0429dcc-e450-4611-a53d-e0a9d84b272e",
   "metadata": {},
   "outputs": [],
   "source": [
    "def process_song_data(spark, input_data, output_data):\n",
    "    \"\"\"\n",
    "        Description: This function loads song_data from S3 and processes it by extracting the songs and artist tables\n",
    "        and then again loaded back to S3\n",
    "        \n",
    "        Parameters:\n",
    "            spark       : this is the Spark Session\n",
    "            input_data  : the location of song_data from where the file is load to process\n",
    "            output_data : the location where after processing the results will be stored\n",
    "            \n",
    "    \"\"\"\n",
    "    song_data = input_data+ 'song_data/*/*/*/*.json'\n",
    "\n",
    "    # read song data file\n",
    "    df = spark.read.text(song_data)\n",
    "    columns_for_songs = [\"song_id\", \"title\", \"artist_id\", \"year\",      \"duration\"]\n",
    "    columns_for_artists = [\"artist_id\", \"name\", \"location\", \"lattitude\", \"longitude\"]\n",
    "    # extract columns to create songs table\n",
    "    songs_table = df.select(columns_for_songs)\n",
    "    \n",
    "    # write songs table to parquet files partitioned by year and artist\n",
    "    songs_table.write.parquet(output_data+ 'songs')\n",
    "\n",
    "    # extract columns to create artists table\n",
    "    artists_table = df.select(columns_for_artists)\n",
    "    \n",
    "    # write artists table to parquet files\n",
    "    artists_table.write.parquet(output_data+ 'artists') "
   ]
  },
  {
   "cell_type": "code",
   "execution_count": null,
   "id": "f3788a81-9378-4fac-80c5-4093934628bc",
   "metadata": {},
   "outputs": [],
   "source": [
    "def process_log_data(spark, input_data, output_data):\n",
    "    \"\"\"\n",
    "        Description: This function loads log_data from S3 and processes it by extracting the songs and artist tables\n",
    "        and then again loaded back to S3. Also output from previous function is used in by spark.read.json command\n",
    "        \n",
    "        Parameters:\n",
    "            spark       : this is the Spark Session\n",
    "            input_data  : the location of song_data from where the file is load to process\n",
    "            output_data : the location where after processing the results will be stored\n",
    "            \n",
    "    \"\"\"\n",
    "    log_data = input_data + 'log_data/*.json'\n",
    "    # read log data file\n",
    "    df = spark.read.text(log_data)\n",
    "    \n",
    "    # filter by actions for song plays\n",
    "    df = df.filter(df.page==\"NextSong\")\n",
    "\n",
    "    # extract columns for users table    \n",
    "    columns_for_users = [\"user_id\", \"first_name\", \"last_name\",    \"gender\", \"level\"]\n",
    "    users_table = df.select(columns_for_songs)\n",
    "    \n",
    "    # write users table to parquet files\n",
    "    users_table.write.parquet(output_data+ 'users')\n",
    "\n",
    "    # create timestamp column from original timestamp column\n",
    "    get_timestamp = udf(lambda x :date_format \\\n",
    "                           (x,\"%Y %M %d %h %i %s\"),TimestampType())\n",
    "    df = df.withColumns(\"timestamp\", get_timestamp)\n",
    "    \n",
    "    # create datetime column from original timestamp column\n",
    "    get_datetime = udf(lambda x :datetime(x),DateType())\n",
    "    df = df.withColumn('start_time', (df['ts']/1000).cast('timestamp'))\n",
    "    df = df.withColumns(\"datetime\", get_datetime('start_time'))\n",
    "    \n",
    "    # extract columns to create time table\n",
    "    time_table = df.select('datetime',\"start_time\")\n",
    "    time_table = time_table.withColumn(\"hour\",hour(\"datetime\"))\n",
    "    time_table = time_table.withColumn(\"day\",dayofmonth(\"datetime\"))\n",
    "    time_table = time_table.withColumn(\"week\",weekofyear(\"datetime\"))\n",
    "    time_table = time_table.withColumn(\"hour\",dayofweek(\"datetime\"))\n",
    "    time_table = time_table.withColumn(\"month\",month(\"datetime\"))\n",
    "    time_table = time_table.withColumn(\"year\",year(\"datetime\"))\n",
    "    \n",
    "    # write time table to parquet files partitioned by year and month\n",
    "    time_table.write.parquet(output_data+'time')\n",
    "\n",
    "    # read in song data to use for songplays table\n",
    "    song_df = park.read.parquet(output_data+'songs')\n",
    "\n",
    "    # extract columns from joined song and log datasets to create songplays table \n",
    "    columns_for_songplays = [\"songplay_id\", \"start_time\", \"user_id\", \"level\", \"song_id\", \"artist_id\", \"session_id\", \"location\", \"user_agent\"]\n",
    "    songplays_table = pd.merge([song_df,df], how=\"right\").select(columns_for_songplays)\n",
    "\n",
    "    # write songplays table to parquet files partitioned by year and month\n",
    "    songplays_table.write.parquet(output_data+'songplays')"
   ]
  },
  {
   "cell_type": "code",
   "execution_count": null,
   "id": "238b6113-9087-4888-b2a1-ee2ab5d0fd1f",
   "metadata": {},
   "outputs": [],
   "source": [
    "def main():\n",
    "    spark = create_spark_session()\n",
    "    input_data = \"s3a://udacity-dend/\"\n",
    "    output_data = \"\"\n",
    "    \n",
    "    process_song_data(spark, input_data, output_data)    \n",
    "    process_log_data(spark, input_data, output_data)\n",
    "\n",
    "\n",
    "if __name__ == \"__main__\":\n",
    "    main()\n"
   ]
  },
  {
   "cell_type": "code",
   "execution_count": null,
   "id": "45f642d9-50fe-4c91-b1cf-39cb406958e6",
   "metadata": {},
   "outputs": [],
   "source": []
  }
 ],
 "metadata": {
  "kernelspec": {
   "display_name": "PySpark",
   "language": "",
   "name": "pysparkkernel"
  },
  "language_info": {
   "codemirror_mode": {
    "name": "python",
    "version": 2
   },
   "mimetype": "text/x-python",
   "name": "pyspark",
   "pygments_lexer": "python2"
  }
 },
 "nbformat": 4,
 "nbformat_minor": 5
}
